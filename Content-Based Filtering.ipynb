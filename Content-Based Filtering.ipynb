{
 "cells": [
  {
   "cell_type": "markdown",
   "id": "57b8d9fe",
   "metadata": {},
   "source": [
    "# Deep Learning for Content-Based Filtering"
   ]
  },
  {
   "cell_type": "code",
   "execution_count": 1,
   "id": "f745e686",
   "metadata": {},
   "outputs": [],
   "source": [
    "import numpy as np\n",
    "import numpy.ma as ma\n",
    "from numpy import genfromtxt\n",
    "from collections import defaultdict\n",
    "import pandas as pd\n",
    "import tensorflow as tf\n",
    "from tensorflow import keras\n",
    "from sklearn.preprocessing import StandardScaler, MinMaxScaler\n",
    "from sklearn.model_selection import train_test_split\n",
    "import tabulate\n",
    "from recsysNN_utils import *\n",
    "pd.set_option(\"display.precision\", 1)"
   ]
  },
  {
   "cell_type": "markdown",
   "id": "f3ff378c",
   "metadata": {},
   "source": [
    "The data set is derived from the [MovieLens ml-latest-small](https://grouplens.org/datasets/movielens/latest/) dataset. \n",
    "\n",
    "[F. Maxwell Harper and Joseph A. Konstan. 2015. The MovieLens Datasets: History and Context. ACM Transactions on Interactive Intelligent Systems (TiiS) 5, 4: 19:1–19:19. <https://doi.org/10.1145/2827872>]\n",
    "\n",
    "The original dataset has 9000 movies rated by 600 users with ratings on a scale of 0.5 to 5 in 0.5 step increments. The dataset has been reduced in size to focus on movies from the years since 2000 and popular genres. The reduced dataset has $n_u = 395$ users and $n_m= 694$ movies. For each movie, the dataset provides a movie title, release date, and one or more genres. For example \"Toy Story 3\" was released in 2010 and has several genres: \"Adventure|Animation|Children|Comedy|Fantasy|IMAX\".  This dataset contains little information about users other than their ratings. This dataset is used to create training vectors for neural networks."
   ]
  },
  {
   "cell_type": "code",
   "execution_count": 2,
   "id": "985dde57",
   "metadata": {},
   "outputs": [
    {
     "name": "stdout",
     "output_type": "stream",
     "text": [
      "Number of training vectors: 58187\n"
     ]
    }
   ],
   "source": [
    "# Load Data, set configuration variables\n",
    "item_train, user_train, y_train, item_features, user_features, item_vecs, movie_dict, user_to_genre = load_data()\n",
    "\n",
    "num_user_features = user_train.shape[1] - 3  # remove userid, rating count and ave rating during training\n",
    "num_item_features = item_train.shape[1] - 1  # remove movie id at train time\n",
    "uvs = 3  # user genre vector start\n",
    "ivs = 3  # item genre vector start\n",
    "u_s = 3  # start of columns to use in training, user\n",
    "i_s = 1  # start of columns to use in training, items\n",
    "scaledata = True  # applies the standard scalar to data if true\n",
    "print(f\"Number of training vectors: {len(item_train)}\")"
   ]
  },
  {
   "cell_type": "code",
   "execution_count": 3,
   "id": "d5d06982",
   "metadata": {},
   "outputs": [
    {
     "data": {
      "text/html": [
       "<table>\n",
       "<thead>\n",
       "<tr><th style=\"text-align: center;\"> [user id] </th><th style=\"text-align: center;\"> [rating count] </th><th style=\"text-align: center;\"> [rating ave] </th><th style=\"text-align: center;\"> Act ion </th><th style=\"text-align: center;\"> Adve nture </th><th style=\"text-align: center;\"> Anim ation </th><th style=\"text-align: center;\"> Chil dren </th><th style=\"text-align: center;\"> Com edy </th><th style=\"text-align: center;\"> Crime </th><th style=\"text-align: center;\"> Docum entary </th><th style=\"text-align: center;\"> Drama </th><th style=\"text-align: center;\"> Fan tasy </th><th style=\"text-align: center;\"> Hor ror </th><th style=\"text-align: center;\"> Mys tery </th><th style=\"text-align: center;\"> Rom ance </th><th style=\"text-align: center;\"> Sci -Fi </th><th style=\"text-align: center;\"> Thri ller </th></tr>\n",
       "</thead>\n",
       "<tbody>\n",
       "<tr><td style=\"text-align: center;\">     2     </td><td style=\"text-align: center;\">       16       </td><td style=\"text-align: center;\">     4.1      </td><td style=\"text-align: center;\">   3.9   </td><td style=\"text-align: center;\">    5.0     </td><td style=\"text-align: center;\">    0.0     </td><td style=\"text-align: center;\">    0.0    </td><td style=\"text-align: center;\">   4.0   </td><td style=\"text-align: center;\">  4.2  </td><td style=\"text-align: center;\">     4.0      </td><td style=\"text-align: center;\">  4.0  </td><td style=\"text-align: center;\">   0.0    </td><td style=\"text-align: center;\">   3.0   </td><td style=\"text-align: center;\">   4.0    </td><td style=\"text-align: center;\">   0.0    </td><td style=\"text-align: center;\">   4.2   </td><td style=\"text-align: center;\">    3.9    </td></tr>\n",
       "<tr><td style=\"text-align: center;\">     2     </td><td style=\"text-align: center;\">       16       </td><td style=\"text-align: center;\">     4.1      </td><td style=\"text-align: center;\">   3.9   </td><td style=\"text-align: center;\">    5.0     </td><td style=\"text-align: center;\">    0.0     </td><td style=\"text-align: center;\">    0.0    </td><td style=\"text-align: center;\">   4.0   </td><td style=\"text-align: center;\">  4.2  </td><td style=\"text-align: center;\">     4.0      </td><td style=\"text-align: center;\">  4.0  </td><td style=\"text-align: center;\">   0.0    </td><td style=\"text-align: center;\">   3.0   </td><td style=\"text-align: center;\">   4.0    </td><td style=\"text-align: center;\">   0.0    </td><td style=\"text-align: center;\">   4.2   </td><td style=\"text-align: center;\">    3.9    </td></tr>\n",
       "<tr><td style=\"text-align: center;\">     2     </td><td style=\"text-align: center;\">       16       </td><td style=\"text-align: center;\">     4.1      </td><td style=\"text-align: center;\">   3.9   </td><td style=\"text-align: center;\">    5.0     </td><td style=\"text-align: center;\">    0.0     </td><td style=\"text-align: center;\">    0.0    </td><td style=\"text-align: center;\">   4.0   </td><td style=\"text-align: center;\">  4.2  </td><td style=\"text-align: center;\">     4.0      </td><td style=\"text-align: center;\">  4.0  </td><td style=\"text-align: center;\">   0.0    </td><td style=\"text-align: center;\">   3.0   </td><td style=\"text-align: center;\">   4.0    </td><td style=\"text-align: center;\">   0.0    </td><td style=\"text-align: center;\">   4.2   </td><td style=\"text-align: center;\">    3.9    </td></tr>\n",
       "<tr><td style=\"text-align: center;\">     2     </td><td style=\"text-align: center;\">       16       </td><td style=\"text-align: center;\">     4.1      </td><td style=\"text-align: center;\">   3.9   </td><td style=\"text-align: center;\">    5.0     </td><td style=\"text-align: center;\">    0.0     </td><td style=\"text-align: center;\">    0.0    </td><td style=\"text-align: center;\">   4.0   </td><td style=\"text-align: center;\">  4.2  </td><td style=\"text-align: center;\">     4.0      </td><td style=\"text-align: center;\">  4.0  </td><td style=\"text-align: center;\">   0.0    </td><td style=\"text-align: center;\">   3.0   </td><td style=\"text-align: center;\">   4.0    </td><td style=\"text-align: center;\">   0.0    </td><td style=\"text-align: center;\">   4.2   </td><td style=\"text-align: center;\">    3.9    </td></tr>\n",
       "<tr><td style=\"text-align: center;\">     2     </td><td style=\"text-align: center;\">       16       </td><td style=\"text-align: center;\">     4.1      </td><td style=\"text-align: center;\">   3.9   </td><td style=\"text-align: center;\">    5.0     </td><td style=\"text-align: center;\">    0.0     </td><td style=\"text-align: center;\">    0.0    </td><td style=\"text-align: center;\">   4.0   </td><td style=\"text-align: center;\">  4.2  </td><td style=\"text-align: center;\">     4.0      </td><td style=\"text-align: center;\">  4.0  </td><td style=\"text-align: center;\">   0.0    </td><td style=\"text-align: center;\">   3.0   </td><td style=\"text-align: center;\">   4.0    </td><td style=\"text-align: center;\">   0.0    </td><td style=\"text-align: center;\">   4.2   </td><td style=\"text-align: center;\">    3.9    </td></tr>\n",
       "</tbody>\n",
       "</table>"
      ],
      "text/plain": [
       "'<table>\\n<thead>\\n<tr><th style=\"text-align: center;\"> [user id] </th><th style=\"text-align: center;\"> [rating count] </th><th style=\"text-align: center;\"> [rating ave] </th><th style=\"text-align: center;\"> Act ion </th><th style=\"text-align: center;\"> Adve nture </th><th style=\"text-align: center;\"> Anim ation </th><th style=\"text-align: center;\"> Chil dren </th><th style=\"text-align: center;\"> Com edy </th><th style=\"text-align: center;\"> Crime </th><th style=\"text-align: center;\"> Docum entary </th><th style=\"text-align: center;\"> Drama </th><th style=\"text-align: center;\"> Fan tasy </th><th style=\"text-align: center;\"> Hor ror </th><th style=\"text-align: center;\"> Mys tery </th><th style=\"text-align: center;\"> Rom ance </th><th style=\"text-align: center;\"> Sci -Fi </th><th style=\"text-align: center;\"> Thri ller </th></tr>\\n</thead>\\n<tbody>\\n<tr><td style=\"text-align: center;\">     2     </td><td style=\"text-align: center;\">       16       </td><td style=\"text-align: center;\">     4.1      </td><td style=\"text-align: center;\">   3.9   </td><td style=\"text-align: center;\">    5.0     </td><td style=\"text-align: center;\">    0.0     </td><td style=\"text-align: center;\">    0.0    </td><td style=\"text-align: center;\">   4.0   </td><td style=\"text-align: center;\">  4.2  </td><td style=\"text-align: center;\">     4.0      </td><td style=\"text-align: center;\">  4.0  </td><td style=\"text-align: center;\">   0.0    </td><td style=\"text-align: center;\">   3.0   </td><td style=\"text-align: center;\">   4.0    </td><td style=\"text-align: center;\">   0.0    </td><td style=\"text-align: center;\">   4.2   </td><td style=\"text-align: center;\">    3.9    </td></tr>\\n<tr><td style=\"text-align: center;\">     2     </td><td style=\"text-align: center;\">       16       </td><td style=\"text-align: center;\">     4.1      </td><td style=\"text-align: center;\">   3.9   </td><td style=\"text-align: center;\">    5.0     </td><td style=\"text-align: center;\">    0.0     </td><td style=\"text-align: center;\">    0.0    </td><td style=\"text-align: center;\">   4.0   </td><td style=\"text-align: center;\">  4.2  </td><td style=\"text-align: center;\">     4.0      </td><td style=\"text-align: center;\">  4.0  </td><td style=\"text-align: center;\">   0.0    </td><td style=\"text-align: center;\">   3.0   </td><td style=\"text-align: center;\">   4.0    </td><td style=\"text-align: center;\">   0.0    </td><td style=\"text-align: center;\">   4.2   </td><td style=\"text-align: center;\">    3.9    </td></tr>\\n<tr><td style=\"text-align: center;\">     2     </td><td style=\"text-align: center;\">       16       </td><td style=\"text-align: center;\">     4.1      </td><td style=\"text-align: center;\">   3.9   </td><td style=\"text-align: center;\">    5.0     </td><td style=\"text-align: center;\">    0.0     </td><td style=\"text-align: center;\">    0.0    </td><td style=\"text-align: center;\">   4.0   </td><td style=\"text-align: center;\">  4.2  </td><td style=\"text-align: center;\">     4.0      </td><td style=\"text-align: center;\">  4.0  </td><td style=\"text-align: center;\">   0.0    </td><td style=\"text-align: center;\">   3.0   </td><td style=\"text-align: center;\">   4.0    </td><td style=\"text-align: center;\">   0.0    </td><td style=\"text-align: center;\">   4.2   </td><td style=\"text-align: center;\">    3.9    </td></tr>\\n<tr><td style=\"text-align: center;\">     2     </td><td style=\"text-align: center;\">       16       </td><td style=\"text-align: center;\">     4.1      </td><td style=\"text-align: center;\">   3.9   </td><td style=\"text-align: center;\">    5.0     </td><td style=\"text-align: center;\">    0.0     </td><td style=\"text-align: center;\">    0.0    </td><td style=\"text-align: center;\">   4.0   </td><td style=\"text-align: center;\">  4.2  </td><td style=\"text-align: center;\">     4.0      </td><td style=\"text-align: center;\">  4.0  </td><td style=\"text-align: center;\">   0.0    </td><td style=\"text-align: center;\">   3.0   </td><td style=\"text-align: center;\">   4.0    </td><td style=\"text-align: center;\">   0.0    </td><td style=\"text-align: center;\">   4.2   </td><td style=\"text-align: center;\">    3.9    </td></tr>\\n<tr><td style=\"text-align: center;\">     2     </td><td style=\"text-align: center;\">       16       </td><td style=\"text-align: center;\">     4.1      </td><td style=\"text-align: center;\">   3.9   </td><td style=\"text-align: center;\">    5.0     </td><td style=\"text-align: center;\">    0.0     </td><td style=\"text-align: center;\">    0.0    </td><td style=\"text-align: center;\">   4.0   </td><td style=\"text-align: center;\">  4.2  </td><td style=\"text-align: center;\">     4.0      </td><td style=\"text-align: center;\">  4.0  </td><td style=\"text-align: center;\">   0.0    </td><td style=\"text-align: center;\">   3.0   </td><td style=\"text-align: center;\">   4.0    </td><td style=\"text-align: center;\">   0.0    </td><td style=\"text-align: center;\">   4.2   </td><td style=\"text-align: center;\">    3.9    </td></tr>\\n</tbody>\\n</table>'"
      ]
     },
     "execution_count": 3,
     "metadata": {},
     "output_type": "execute_result"
    }
   ],
   "source": [
    "pprint_train(user_train, user_features, uvs,  u_s, maxcount=5)"
   ]
  },
  {
   "cell_type": "code",
   "execution_count": 4,
   "id": "65f80ff9",
   "metadata": {},
   "outputs": [
    {
     "data": {
      "text/html": [
       "<table>\n",
       "<thead>\n",
       "<tr><th style=\"text-align: center;\"> [movie id] </th><th style=\"text-align: center;\"> year </th><th style=\"text-align: center;\"> ave rating </th><th style=\"text-align: center;\"> Act ion </th><th style=\"text-align: center;\"> Adve nture </th><th style=\"text-align: center;\"> Anim ation </th><th style=\"text-align: center;\"> Chil dren </th><th style=\"text-align: center;\"> Com edy </th><th style=\"text-align: center;\"> Crime </th><th style=\"text-align: center;\"> Docum entary </th><th style=\"text-align: center;\"> Drama </th><th style=\"text-align: center;\"> Fan tasy </th><th style=\"text-align: center;\"> Hor ror </th><th style=\"text-align: center;\"> Mys tery </th><th style=\"text-align: center;\"> Rom ance </th><th style=\"text-align: center;\"> Sci -Fi </th><th style=\"text-align: center;\"> Thri ller </th></tr>\n",
       "</thead>\n",
       "<tbody>\n",
       "<tr><td style=\"text-align: center;\">    6874    </td><td style=\"text-align: center;\"> 2003 </td><td style=\"text-align: center;\">    4.0     </td><td style=\"text-align: center;\">    1    </td><td style=\"text-align: center;\">     0      </td><td style=\"text-align: center;\">     0      </td><td style=\"text-align: center;\">     0     </td><td style=\"text-align: center;\">    0    </td><td style=\"text-align: center;\">   0   </td><td style=\"text-align: center;\">      0       </td><td style=\"text-align: center;\">   0   </td><td style=\"text-align: center;\">    0     </td><td style=\"text-align: center;\">    0    </td><td style=\"text-align: center;\">    0     </td><td style=\"text-align: center;\">    0     </td><td style=\"text-align: center;\">    0    </td><td style=\"text-align: center;\">     0     </td></tr>\n",
       "<tr><td style=\"text-align: center;\">    6874    </td><td style=\"text-align: center;\"> 2003 </td><td style=\"text-align: center;\">    4.0     </td><td style=\"text-align: center;\">    0    </td><td style=\"text-align: center;\">     0      </td><td style=\"text-align: center;\">     0      </td><td style=\"text-align: center;\">     0     </td><td style=\"text-align: center;\">    0    </td><td style=\"text-align: center;\">   1   </td><td style=\"text-align: center;\">      0       </td><td style=\"text-align: center;\">   0   </td><td style=\"text-align: center;\">    0     </td><td style=\"text-align: center;\">    0    </td><td style=\"text-align: center;\">    0     </td><td style=\"text-align: center;\">    0     </td><td style=\"text-align: center;\">    0    </td><td style=\"text-align: center;\">     0     </td></tr>\n",
       "<tr><td style=\"text-align: center;\">    6874    </td><td style=\"text-align: center;\"> 2003 </td><td style=\"text-align: center;\">    4.0     </td><td style=\"text-align: center;\">    0    </td><td style=\"text-align: center;\">     0      </td><td style=\"text-align: center;\">     0      </td><td style=\"text-align: center;\">     0     </td><td style=\"text-align: center;\">    0    </td><td style=\"text-align: center;\">   0   </td><td style=\"text-align: center;\">      0       </td><td style=\"text-align: center;\">   0   </td><td style=\"text-align: center;\">    0     </td><td style=\"text-align: center;\">    0    </td><td style=\"text-align: center;\">    0     </td><td style=\"text-align: center;\">    0     </td><td style=\"text-align: center;\">    0    </td><td style=\"text-align: center;\">     1     </td></tr>\n",
       "<tr><td style=\"text-align: center;\">    8798    </td><td style=\"text-align: center;\"> 2004 </td><td style=\"text-align: center;\">    3.8     </td><td style=\"text-align: center;\">    1    </td><td style=\"text-align: center;\">     0      </td><td style=\"text-align: center;\">     0      </td><td style=\"text-align: center;\">     0     </td><td style=\"text-align: center;\">    0    </td><td style=\"text-align: center;\">   0   </td><td style=\"text-align: center;\">      0       </td><td style=\"text-align: center;\">   0   </td><td style=\"text-align: center;\">    0     </td><td style=\"text-align: center;\">    0    </td><td style=\"text-align: center;\">    0     </td><td style=\"text-align: center;\">    0     </td><td style=\"text-align: center;\">    0    </td><td style=\"text-align: center;\">     0     </td></tr>\n",
       "<tr><td style=\"text-align: center;\">    8798    </td><td style=\"text-align: center;\"> 2004 </td><td style=\"text-align: center;\">    3.8     </td><td style=\"text-align: center;\">    0    </td><td style=\"text-align: center;\">     0      </td><td style=\"text-align: center;\">     0      </td><td style=\"text-align: center;\">     0     </td><td style=\"text-align: center;\">    0    </td><td style=\"text-align: center;\">   1   </td><td style=\"text-align: center;\">      0       </td><td style=\"text-align: center;\">   0   </td><td style=\"text-align: center;\">    0     </td><td style=\"text-align: center;\">    0    </td><td style=\"text-align: center;\">    0     </td><td style=\"text-align: center;\">    0     </td><td style=\"text-align: center;\">    0    </td><td style=\"text-align: center;\">     0     </td></tr>\n",
       "</tbody>\n",
       "</table>"
      ],
      "text/plain": [
       "'<table>\\n<thead>\\n<tr><th style=\"text-align: center;\"> [movie id] </th><th style=\"text-align: center;\"> year </th><th style=\"text-align: center;\"> ave rating </th><th style=\"text-align: center;\"> Act ion </th><th style=\"text-align: center;\"> Adve nture </th><th style=\"text-align: center;\"> Anim ation </th><th style=\"text-align: center;\"> Chil dren </th><th style=\"text-align: center;\"> Com edy </th><th style=\"text-align: center;\"> Crime </th><th style=\"text-align: center;\"> Docum entary </th><th style=\"text-align: center;\"> Drama </th><th style=\"text-align: center;\"> Fan tasy </th><th style=\"text-align: center;\"> Hor ror </th><th style=\"text-align: center;\"> Mys tery </th><th style=\"text-align: center;\"> Rom ance </th><th style=\"text-align: center;\"> Sci -Fi </th><th style=\"text-align: center;\"> Thri ller </th></tr>\\n</thead>\\n<tbody>\\n<tr><td style=\"text-align: center;\">    6874    </td><td style=\"text-align: center;\"> 2003 </td><td style=\"text-align: center;\">    4.0     </td><td style=\"text-align: center;\">    1    </td><td style=\"text-align: center;\">     0      </td><td style=\"text-align: center;\">     0      </td><td style=\"text-align: center;\">     0     </td><td style=\"text-align: center;\">    0    </td><td style=\"text-align: center;\">   0   </td><td style=\"text-align: center;\">      0       </td><td style=\"text-align: center;\">   0   </td><td style=\"text-align: center;\">    0     </td><td style=\"text-align: center;\">    0    </td><td style=\"text-align: center;\">    0     </td><td style=\"text-align: center;\">    0     </td><td style=\"text-align: center;\">    0    </td><td style=\"text-align: center;\">     0     </td></tr>\\n<tr><td style=\"text-align: center;\">    6874    </td><td style=\"text-align: center;\"> 2003 </td><td style=\"text-align: center;\">    4.0     </td><td style=\"text-align: center;\">    0    </td><td style=\"text-align: center;\">     0      </td><td style=\"text-align: center;\">     0      </td><td style=\"text-align: center;\">     0     </td><td style=\"text-align: center;\">    0    </td><td style=\"text-align: center;\">   1   </td><td style=\"text-align: center;\">      0       </td><td style=\"text-align: center;\">   0   </td><td style=\"text-align: center;\">    0     </td><td style=\"text-align: center;\">    0    </td><td style=\"text-align: center;\">    0     </td><td style=\"text-align: center;\">    0     </td><td style=\"text-align: center;\">    0    </td><td style=\"text-align: center;\">     0     </td></tr>\\n<tr><td style=\"text-align: center;\">    6874    </td><td style=\"text-align: center;\"> 2003 </td><td style=\"text-align: center;\">    4.0     </td><td style=\"text-align: center;\">    0    </td><td style=\"text-align: center;\">     0      </td><td style=\"text-align: center;\">     0      </td><td style=\"text-align: center;\">     0     </td><td style=\"text-align: center;\">    0    </td><td style=\"text-align: center;\">   0   </td><td style=\"text-align: center;\">      0       </td><td style=\"text-align: center;\">   0   </td><td style=\"text-align: center;\">    0     </td><td style=\"text-align: center;\">    0    </td><td style=\"text-align: center;\">    0     </td><td style=\"text-align: center;\">    0     </td><td style=\"text-align: center;\">    0    </td><td style=\"text-align: center;\">     1     </td></tr>\\n<tr><td style=\"text-align: center;\">    8798    </td><td style=\"text-align: center;\"> 2004 </td><td style=\"text-align: center;\">    3.8     </td><td style=\"text-align: center;\">    1    </td><td style=\"text-align: center;\">     0      </td><td style=\"text-align: center;\">     0      </td><td style=\"text-align: center;\">     0     </td><td style=\"text-align: center;\">    0    </td><td style=\"text-align: center;\">   0   </td><td style=\"text-align: center;\">      0       </td><td style=\"text-align: center;\">   0   </td><td style=\"text-align: center;\">    0     </td><td style=\"text-align: center;\">    0    </td><td style=\"text-align: center;\">    0     </td><td style=\"text-align: center;\">    0     </td><td style=\"text-align: center;\">    0    </td><td style=\"text-align: center;\">     0     </td></tr>\\n<tr><td style=\"text-align: center;\">    8798    </td><td style=\"text-align: center;\"> 2004 </td><td style=\"text-align: center;\">    3.8     </td><td style=\"text-align: center;\">    0    </td><td style=\"text-align: center;\">     0      </td><td style=\"text-align: center;\">     0      </td><td style=\"text-align: center;\">     0     </td><td style=\"text-align: center;\">    0    </td><td style=\"text-align: center;\">   1   </td><td style=\"text-align: center;\">      0       </td><td style=\"text-align: center;\">   0   </td><td style=\"text-align: center;\">    0     </td><td style=\"text-align: center;\">    0    </td><td style=\"text-align: center;\">    0     </td><td style=\"text-align: center;\">    0     </td><td style=\"text-align: center;\">    0    </td><td style=\"text-align: center;\">     0     </td></tr>\\n</tbody>\\n</table>'"
      ]
     },
     "execution_count": 4,
     "metadata": {},
     "output_type": "execute_result"
    }
   ],
   "source": [
    "pprint_train(item_train, item_features, ivs, i_s, maxcount=5, user=False)"
   ]
  },
  {
   "cell_type": "code",
   "execution_count": 5,
   "id": "49e4af41",
   "metadata": {},
   "outputs": [
    {
     "name": "stdout",
     "output_type": "stream",
     "text": [
      "y_train[:5]: [4.  4.  4.  3.5 3.5]\n"
     ]
    }
   ],
   "source": [
    "print(f\"y_train[:5]: {y_train[:5]}\")"
   ]
  },
  {
   "cell_type": "markdown",
   "id": "057d005d",
   "metadata": {},
   "source": [
    "Above, we can see that movie 6874 is an action movie released in 2003. User 2 rates action movies as 3.9 on average. Further, movie 6874 was also listed in the Crime and Thriller genre. MovieLens users gave the movie an average rating of 4. A training example consists of a row from both tables and a rating from y_train."
   ]
  },
  {
   "cell_type": "code",
   "execution_count": 6,
   "id": "89f27874",
   "metadata": {},
   "outputs": [
    {
     "name": "stdout",
     "output_type": "stream",
     "text": [
      "True\n",
      "True\n"
     ]
    }
   ],
   "source": [
    "# scale training data\n",
    "if scaledata:\n",
    "    item_train_save = item_train\n",
    "    user_train_save = user_train\n",
    "\n",
    "    scalerItem = StandardScaler()\n",
    "    scalerItem.fit(item_train)\n",
    "    item_train = scalerItem.transform(item_train)\n",
    "\n",
    "    scalerUser = StandardScaler()\n",
    "    scalerUser.fit(user_train)\n",
    "    user_train = scalerUser.transform(user_train)\n",
    "\n",
    "    print(np.allclose(item_train_save, scalerItem.inverse_transform(item_train)))\n",
    "    print(np.allclose(user_train_save, scalerUser.inverse_transform(user_train)))"
   ]
  },
  {
   "cell_type": "code",
   "execution_count": 7,
   "id": "404d44b2",
   "metadata": {},
   "outputs": [
    {
     "name": "stdout",
     "output_type": "stream",
     "text": [
      "movie/item training data shape: (46549, 17)\n",
      "movie/item test  data shape: (11638, 17)\n"
     ]
    }
   ],
   "source": [
    "item_train, item_test = train_test_split(item_train, train_size=0.80, shuffle=True, random_state=1)\n",
    "user_train, user_test = train_test_split(user_train, train_size=0.80, shuffle=True, random_state=1)\n",
    "y_train, y_test       = train_test_split(y_train,    train_size=0.80, shuffle=True, random_state=1)\n",
    "print(f\"movie/item training data shape: {item_train.shape}\")\n",
    "print(f\"movie/item test  data shape: {item_test.shape}\")"
   ]
  },
  {
   "cell_type": "markdown",
   "id": "157d4a99",
   "metadata": {},
   "source": [
    "The scaled, shuffled data now has a mean of zero."
   ]
  },
  {
   "cell_type": "code",
   "execution_count": 8,
   "id": "1ff1d196",
   "metadata": {},
   "outputs": [
    {
     "data": {
      "text/html": [
       "<table>\n",
       "<thead>\n",
       "<tr><th style=\"text-align: center;\"> [user id] </th><th style=\"text-align: center;\"> [rating count] </th><th style=\"text-align: center;\"> [rating ave] </th><th style=\"text-align: center;\"> Act ion </th><th style=\"text-align: center;\"> Adve nture </th><th style=\"text-align: center;\"> Anim ation </th><th style=\"text-align: center;\"> Chil dren </th><th style=\"text-align: center;\"> Com edy </th><th style=\"text-align: center;\"> Crime </th><th style=\"text-align: center;\"> Docum entary </th><th style=\"text-align: center;\"> Drama </th><th style=\"text-align: center;\"> Fan tasy </th><th style=\"text-align: center;\"> Hor ror </th><th style=\"text-align: center;\"> Mys tery </th><th style=\"text-align: center;\"> Rom ance </th><th style=\"text-align: center;\"> Sci -Fi </th><th style=\"text-align: center;\"> Thri ller </th></tr>\n",
       "</thead>\n",
       "<tbody>\n",
       "<tr><td style=\"text-align: center;\">     1     </td><td style=\"text-align: center;\">       0        </td><td style=\"text-align: center;\">     0.6      </td><td style=\"text-align: center;\">   0.7   </td><td style=\"text-align: center;\">    0.6     </td><td style=\"text-align: center;\">    0.6     </td><td style=\"text-align: center;\">    0.7    </td><td style=\"text-align: center;\">   0.7   </td><td style=\"text-align: center;\">  0.5  </td><td style=\"text-align: center;\">     0.7      </td><td style=\"text-align: center;\">  0.2  </td><td style=\"text-align: center;\">   0.3    </td><td style=\"text-align: center;\">   0.3   </td><td style=\"text-align: center;\">   0.5    </td><td style=\"text-align: center;\">   0.5    </td><td style=\"text-align: center;\">   0.8   </td><td style=\"text-align: center;\">    0.5    </td></tr>\n",
       "<tr><td style=\"text-align: center;\">     0     </td><td style=\"text-align: center;\">       0        </td><td style=\"text-align: center;\">     1.6      </td><td style=\"text-align: center;\">   1.5   </td><td style=\"text-align: center;\">    1.7     </td><td style=\"text-align: center;\">    0.9     </td><td style=\"text-align: center;\">    1.0    </td><td style=\"text-align: center;\">   1.4   </td><td style=\"text-align: center;\">  0.8  </td><td style=\"text-align: center;\">     -1.2     </td><td style=\"text-align: center;\">  1.2  </td><td style=\"text-align: center;\">   1.2    </td><td style=\"text-align: center;\">   1.6   </td><td style=\"text-align: center;\">   0.9    </td><td style=\"text-align: center;\">   1.4    </td><td style=\"text-align: center;\">   1.2   </td><td style=\"text-align: center;\">    1.0    </td></tr>\n",
       "<tr><td style=\"text-align: center;\">     0     </td><td style=\"text-align: center;\">       0        </td><td style=\"text-align: center;\">     0.8      </td><td style=\"text-align: center;\">   0.6   </td><td style=\"text-align: center;\">    0.7     </td><td style=\"text-align: center;\">    0.5     </td><td style=\"text-align: center;\">    0.6    </td><td style=\"text-align: center;\">   0.6   </td><td style=\"text-align: center;\">  0.3  </td><td style=\"text-align: center;\">     -1.2     </td><td style=\"text-align: center;\">  0.7  </td><td style=\"text-align: center;\">   0.8    </td><td style=\"text-align: center;\">   0.9   </td><td style=\"text-align: center;\">   0.6    </td><td style=\"text-align: center;\">   0.2    </td><td style=\"text-align: center;\">   0.6   </td><td style=\"text-align: center;\">    0.6    </td></tr>\n",
       "<tr><td style=\"text-align: center;\">     1     </td><td style=\"text-align: center;\">       0        </td><td style=\"text-align: center;\">     -0.1     </td><td style=\"text-align: center;\">   0.2   </td><td style=\"text-align: center;\">    -0.1    </td><td style=\"text-align: center;\">    0.3     </td><td style=\"text-align: center;\">    0.7    </td><td style=\"text-align: center;\">   0.3   </td><td style=\"text-align: center;\">  0.2  </td><td style=\"text-align: center;\">     1.0      </td><td style=\"text-align: center;\"> -0.5  </td><td style=\"text-align: center;\">   -0.7   </td><td style=\"text-align: center;\">  -2.1   </td><td style=\"text-align: center;\">   0.5    </td><td style=\"text-align: center;\">   0.7    </td><td style=\"text-align: center;\">   0.3   </td><td style=\"text-align: center;\">    0.0    </td></tr>\n",
       "<tr><td style=\"text-align: center;\">    -1     </td><td style=\"text-align: center;\">       0        </td><td style=\"text-align: center;\">     -1.3     </td><td style=\"text-align: center;\">  -0.8   </td><td style=\"text-align: center;\">    -0.8    </td><td style=\"text-align: center;\">    0.1     </td><td style=\"text-align: center;\">   -0.1    </td><td style=\"text-align: center;\">  -1.1   </td><td style=\"text-align: center;\"> -0.9  </td><td style=\"text-align: center;\">     -1.2     </td><td style=\"text-align: center;\"> -1.5  </td><td style=\"text-align: center;\">   -0.6   </td><td style=\"text-align: center;\">  -0.5   </td><td style=\"text-align: center;\">   -0.6   </td><td style=\"text-align: center;\">   -0.9   </td><td style=\"text-align: center;\">  -0.4   </td><td style=\"text-align: center;\">   -0.9    </td></tr>\n",
       "</tbody>\n",
       "</table>"
      ],
      "text/plain": [
       "'<table>\\n<thead>\\n<tr><th style=\"text-align: center;\"> [user id] </th><th style=\"text-align: center;\"> [rating count] </th><th style=\"text-align: center;\"> [rating ave] </th><th style=\"text-align: center;\"> Act ion </th><th style=\"text-align: center;\"> Adve nture </th><th style=\"text-align: center;\"> Anim ation </th><th style=\"text-align: center;\"> Chil dren </th><th style=\"text-align: center;\"> Com edy </th><th style=\"text-align: center;\"> Crime </th><th style=\"text-align: center;\"> Docum entary </th><th style=\"text-align: center;\"> Drama </th><th style=\"text-align: center;\"> Fan tasy </th><th style=\"text-align: center;\"> Hor ror </th><th style=\"text-align: center;\"> Mys tery </th><th style=\"text-align: center;\"> Rom ance </th><th style=\"text-align: center;\"> Sci -Fi </th><th style=\"text-align: center;\"> Thri ller </th></tr>\\n</thead>\\n<tbody>\\n<tr><td style=\"text-align: center;\">     1     </td><td style=\"text-align: center;\">       0        </td><td style=\"text-align: center;\">     0.6      </td><td style=\"text-align: center;\">   0.7   </td><td style=\"text-align: center;\">    0.6     </td><td style=\"text-align: center;\">    0.6     </td><td style=\"text-align: center;\">    0.7    </td><td style=\"text-align: center;\">   0.7   </td><td style=\"text-align: center;\">  0.5  </td><td style=\"text-align: center;\">     0.7      </td><td style=\"text-align: center;\">  0.2  </td><td style=\"text-align: center;\">   0.3    </td><td style=\"text-align: center;\">   0.3   </td><td style=\"text-align: center;\">   0.5    </td><td style=\"text-align: center;\">   0.5    </td><td style=\"text-align: center;\">   0.8   </td><td style=\"text-align: center;\">    0.5    </td></tr>\\n<tr><td style=\"text-align: center;\">     0     </td><td style=\"text-align: center;\">       0        </td><td style=\"text-align: center;\">     1.6      </td><td style=\"text-align: center;\">   1.5   </td><td style=\"text-align: center;\">    1.7     </td><td style=\"text-align: center;\">    0.9     </td><td style=\"text-align: center;\">    1.0    </td><td style=\"text-align: center;\">   1.4   </td><td style=\"text-align: center;\">  0.8  </td><td style=\"text-align: center;\">     -1.2     </td><td style=\"text-align: center;\">  1.2  </td><td style=\"text-align: center;\">   1.2    </td><td style=\"text-align: center;\">   1.6   </td><td style=\"text-align: center;\">   0.9    </td><td style=\"text-align: center;\">   1.4    </td><td style=\"text-align: center;\">   1.2   </td><td style=\"text-align: center;\">    1.0    </td></tr>\\n<tr><td style=\"text-align: center;\">     0     </td><td style=\"text-align: center;\">       0        </td><td style=\"text-align: center;\">     0.8      </td><td style=\"text-align: center;\">   0.6   </td><td style=\"text-align: center;\">    0.7     </td><td style=\"text-align: center;\">    0.5     </td><td style=\"text-align: center;\">    0.6    </td><td style=\"text-align: center;\">   0.6   </td><td style=\"text-align: center;\">  0.3  </td><td style=\"text-align: center;\">     -1.2     </td><td style=\"text-align: center;\">  0.7  </td><td style=\"text-align: center;\">   0.8    </td><td style=\"text-align: center;\">   0.9   </td><td style=\"text-align: center;\">   0.6    </td><td style=\"text-align: center;\">   0.2    </td><td style=\"text-align: center;\">   0.6   </td><td style=\"text-align: center;\">    0.6    </td></tr>\\n<tr><td style=\"text-align: center;\">     1     </td><td style=\"text-align: center;\">       0        </td><td style=\"text-align: center;\">     -0.1     </td><td style=\"text-align: center;\">   0.2   </td><td style=\"text-align: center;\">    -0.1    </td><td style=\"text-align: center;\">    0.3     </td><td style=\"text-align: center;\">    0.7    </td><td style=\"text-align: center;\">   0.3   </td><td style=\"text-align: center;\">  0.2  </td><td style=\"text-align: center;\">     1.0      </td><td style=\"text-align: center;\"> -0.5  </td><td style=\"text-align: center;\">   -0.7   </td><td style=\"text-align: center;\">  -2.1   </td><td style=\"text-align: center;\">   0.5    </td><td style=\"text-align: center;\">   0.7    </td><td style=\"text-align: center;\">   0.3   </td><td style=\"text-align: center;\">    0.0    </td></tr>\\n<tr><td style=\"text-align: center;\">    -1     </td><td style=\"text-align: center;\">       0        </td><td style=\"text-align: center;\">     -1.3     </td><td style=\"text-align: center;\">  -0.8   </td><td style=\"text-align: center;\">    -0.8    </td><td style=\"text-align: center;\">    0.1     </td><td style=\"text-align: center;\">   -0.1    </td><td style=\"text-align: center;\">  -1.1   </td><td style=\"text-align: center;\"> -0.9  </td><td style=\"text-align: center;\">     -1.2     </td><td style=\"text-align: center;\"> -1.5  </td><td style=\"text-align: center;\">   -0.6   </td><td style=\"text-align: center;\">  -0.5   </td><td style=\"text-align: center;\">   -0.6   </td><td style=\"text-align: center;\">   -0.9   </td><td style=\"text-align: center;\">  -0.4   </td><td style=\"text-align: center;\">   -0.9    </td></tr>\\n</tbody>\\n</table>'"
      ]
     },
     "execution_count": 8,
     "metadata": {},
     "output_type": "execute_result"
    }
   ],
   "source": [
    "pprint_train(user_train, user_features, uvs, u_s, maxcount=5)"
   ]
  },
  {
   "cell_type": "code",
   "execution_count": 9,
   "id": "5f7f4d62",
   "metadata": {},
   "outputs": [
    {
     "name": "stdout",
     "output_type": "stream",
     "text": [
      "(46549, 1) (11638, 1)\n"
     ]
    }
   ],
   "source": [
    "scaler = MinMaxScaler((-1, 1))\n",
    "scaler.fit(y_train.reshape(-1, 1))\n",
    "ynorm_train = scaler.transform(y_train.reshape(-1, 1))\n",
    "ynorm_test = scaler.transform(y_test.reshape(-1, 1))\n",
    "print(ynorm_train.shape, ynorm_test.shape)"
   ]
  },
  {
   "cell_type": "markdown",
   "id": "e13884d6",
   "metadata": {},
   "source": [
    "#### Neural Network for content-based filtering"
   ]
  },
  {
   "cell_type": "code",
   "execution_count": 10,
   "id": "8e5dcfe7",
   "metadata": {},
   "outputs": [
    {
     "name": "stdout",
     "output_type": "stream",
     "text": [
      "Model: \"model\"\n",
      "__________________________________________________________________________________________________\n",
      " Layer (type)                   Output Shape         Param #     Connected to                     \n",
      "==================================================================================================\n",
      " input_1 (InputLayer)           [(None, 14)]         0           []                               \n",
      "                                                                                                  \n",
      " input_2 (InputLayer)           [(None, 16)]         0           []                               \n",
      "                                                                                                  \n",
      " sequential (Sequential)        (None, 32)           40864       ['input_1[0][0]']                \n",
      "                                                                                                  \n",
      " sequential_1 (Sequential)      (None, 32)           41376       ['input_2[0][0]']                \n",
      "                                                                                                  \n",
      " tf.math.l2_normalize (TFOpLamb  (None, 32)          0           ['sequential[0][0]']             \n",
      " da)                                                                                              \n",
      "                                                                                                  \n",
      " tf.math.l2_normalize_1 (TFOpLa  (None, 32)          0           ['sequential_1[0][0]']           \n",
      " mbda)                                                                                            \n",
      "                                                                                                  \n",
      " dot (Dot)                      (None, 1)            0           ['tf.math.l2_normalize[0][0]',   \n",
      "                                                                  'tf.math.l2_normalize_1[0][0]'] \n",
      "                                                                                                  \n",
      "==================================================================================================\n",
      "Total params: 82,240\n",
      "Trainable params: 82,240\n",
      "Non-trainable params: 0\n",
      "__________________________________________________________________________________________________\n"
     ]
    }
   ],
   "source": [
    "num_outputs = 32\n",
    "tf.random.set_seed(1)\n",
    "user_NN = tf.keras.models.Sequential([\n",
    "    \n",
    "    tf.keras.layers.Dense(256, activation='relu'),\n",
    "    tf.keras.layers.Dense(128, activation='relu'),\n",
    "    tf.keras.layers.Dense(num_outputs),\n",
    "])\n",
    "\n",
    "item_NN = tf.keras.models.Sequential([\n",
    "    \n",
    "    tf.keras.layers.Dense(256, activation='relu'),\n",
    "    tf.keras.layers.Dense(128, activation='relu'),\n",
    "    tf.keras.layers.Dense(num_outputs), \n",
    "])\n",
    "\n",
    "# create the user input and point to the base network\n",
    "input_user = tf.keras.layers.Input(shape=(num_user_features))\n",
    "vu = user_NN(input_user)\n",
    "vu = tf.linalg.l2_normalize(vu, axis=1)\n",
    "\n",
    "# create the item input and point to the base network\n",
    "input_item = tf.keras.layers.Input(shape=(num_item_features))\n",
    "vm = item_NN(input_item)\n",
    "vm = tf.linalg.l2_normalize(vm, axis=1)\n",
    "\n",
    "# compute the dot product of the two vectors vu and vm\n",
    "output = tf.keras.layers.Dot(axes=1)([vu, vm])\n",
    "\n",
    "# specify the inputs and output of the model\n",
    "model = Model([input_user, input_item], output)\n",
    "\n",
    "model.summary()"
   ]
  },
  {
   "cell_type": "markdown",
   "id": "1d6dba87",
   "metadata": {},
   "source": [
    "We'll use a mean squared error loss and an Adam optimizer."
   ]
  },
  {
   "cell_type": "code",
   "execution_count": 11,
   "id": "b37b1f62",
   "metadata": {},
   "outputs": [],
   "source": [
    "tf.random.set_seed(1)\n",
    "cost_fn = tf.keras.losses.MeanSquaredError()\n",
    "opt = keras.optimizers.Adam(learning_rate=0.01)\n",
    "model.compile(optimizer=opt,\n",
    "              loss=cost_fn)"
   ]
  },
  {
   "cell_type": "code",
   "execution_count": 12,
   "id": "59860634",
   "metadata": {},
   "outputs": [
    {
     "name": "stdout",
     "output_type": "stream",
     "text": [
      "Num GPUs Available:  1\n"
     ]
    }
   ],
   "source": [
    "print(\"Num GPUs Available: \", len(tf.config.list_physical_devices('GPU')))"
   ]
  },
  {
   "cell_type": "code",
   "execution_count": 13,
   "id": "3f6eed9d",
   "metadata": {},
   "outputs": [
    {
     "name": "stdout",
     "output_type": "stream",
     "text": [
      "Epoch 1/30\n",
      "1455/1455 [==============================] - 21s 11ms/step - loss: 0.1249\n",
      "Epoch 2/30\n",
      "1455/1455 [==============================] - 16s 11ms/step - loss: 0.1183\n",
      "Epoch 3/30\n",
      "1455/1455 [==============================] - 16s 11ms/step - loss: 0.1167\n",
      "Epoch 4/30\n",
      "1455/1455 [==============================] - 16s 11ms/step - loss: 0.1148\n",
      "Epoch 5/30\n",
      "1455/1455 [==============================] - 16s 11ms/step - loss: 0.1131\n",
      "Epoch 6/30\n",
      "1455/1455 [==============================] - 16s 11ms/step - loss: 0.1110\n",
      "Epoch 7/30\n",
      "1455/1455 [==============================] - 16s 11ms/step - loss: 0.1099\n",
      "Epoch 8/30\n",
      "1455/1455 [==============================] - 15s 11ms/step - loss: 0.1090\n",
      "Epoch 9/30\n",
      "1455/1455 [==============================] - 16s 11ms/step - loss: 0.1081\n",
      "Epoch 10/30\n",
      "1455/1455 [==============================] - 16s 11ms/step - loss: 0.1075\n",
      "Epoch 11/30\n",
      "1455/1455 [==============================] - 15s 10ms/step - loss: 0.1066\n",
      "Epoch 12/30\n",
      "1455/1455 [==============================] - 15s 10ms/step - loss: 0.1065\n",
      "Epoch 13/30\n",
      "1455/1455 [==============================] - 16s 11ms/step - loss: 0.1058\n",
      "Epoch 14/30\n",
      "1455/1455 [==============================] - 15s 11ms/step - loss: 0.1051\n",
      "Epoch 15/30\n",
      "1455/1455 [==============================] - 15s 10ms/step - loss: 0.1045\n",
      "Epoch 16/30\n",
      "1455/1455 [==============================] - 15s 10ms/step - loss: 0.1039\n",
      "Epoch 17/30\n",
      "1455/1455 [==============================] - 16s 11ms/step - loss: 0.1033\n",
      "Epoch 18/30\n",
      "1455/1455 [==============================] - 16s 11ms/step - loss: 0.1030\n",
      "Epoch 19/30\n",
      "1455/1455 [==============================] - 16s 11ms/step - loss: 0.1023\n",
      "Epoch 20/30\n",
      "1455/1455 [==============================] - 16s 11ms/step - loss: 0.1020\n",
      "Epoch 21/30\n",
      "1455/1455 [==============================] - 16s 11ms/step - loss: 0.1014\n",
      "Epoch 22/30\n",
      "1455/1455 [==============================] - 16s 11ms/step - loss: 0.1010\n",
      "Epoch 23/30\n",
      "1455/1455 [==============================] - 16s 11ms/step - loss: 0.1005\n",
      "Epoch 24/30\n",
      "1455/1455 [==============================] - 16s 11ms/step - loss: 0.1001\n",
      "Epoch 25/30\n",
      "1455/1455 [==============================] - 16s 11ms/step - loss: 0.0999\n",
      "Epoch 26/30\n",
      "1455/1455 [==============================] - 16s 11ms/step - loss: 0.0993\n",
      "Epoch 27/30\n",
      "1455/1455 [==============================] - 16s 11ms/step - loss: 0.0990\n",
      "Epoch 28/30\n",
      "1455/1455 [==============================] - 16s 11ms/step - loss: 0.0988\n",
      "Epoch 29/30\n",
      "1455/1455 [==============================] - 16s 11ms/step - loss: 0.0983\n",
      "Epoch 30/30\n",
      "1455/1455 [==============================] - 16s 11ms/step - loss: 0.0980\n"
     ]
    },
    {
     "data": {
      "text/plain": [
       "<keras.callbacks.History at 0x2430f6b67f0>"
      ]
     },
     "execution_count": 13,
     "metadata": {},
     "output_type": "execute_result"
    }
   ],
   "source": [
    "tf.random.set_seed(1)\n",
    "model.fit([user_train[:, u_s:], item_train[:, i_s:]], ynorm_train, epochs=30)"
   ]
  },
  {
   "cell_type": "markdown",
   "id": "e9fe81dd",
   "metadata": {},
   "source": [
    "Evaluate the model to determine loss on the test data. It is comparable to the training loss indicating the model has not substantially overfit the training data."
   ]
  },
  {
   "cell_type": "code",
   "execution_count": 15,
   "id": "ee6d53bc",
   "metadata": {},
   "outputs": [
    {
     "name": "stdout",
     "output_type": "stream",
     "text": [
      "364/364 [==============================] - 2s 5ms/step - loss: 0.1045\n"
     ]
    },
    {
     "data": {
      "text/plain": [
       "0.10449469089508057"
      ]
     },
     "execution_count": 15,
     "metadata": {},
     "output_type": "execute_result"
    }
   ],
   "source": [
    "model.evaluate([user_test[:, u_s:], item_test[:, i_s:]], ynorm_test)"
   ]
  },
  {
   "cell_type": "markdown",
   "id": "365cb0d1",
   "metadata": {},
   "source": [
    "### Predictions for a new user"
   ]
  },
  {
   "cell_type": "markdown",
   "id": "5a982b3d",
   "metadata": {},
   "source": [
    "First, we'll create a new user and have the model suggest movies for that user. After you have tried this example on the example user content, feel free to change the user content to match your own preferences and see what the model suggests. Note that ratings are between 0.5 and 5.0, inclusive, in half-step increments."
   ]
  },
  {
   "cell_type": "code",
   "execution_count": 16,
   "id": "eb95d1d2",
   "metadata": {},
   "outputs": [],
   "source": [
    "new_user_id = 5000\n",
    "new_rating_ave = 1.0\n",
    "new_action = 1.0\n",
    "new_adventure = 1\n",
    "new_animation = 1\n",
    "new_childrens = 1\n",
    "new_comedy = 5\n",
    "new_crime = 1\n",
    "new_documentary = 1\n",
    "new_drama = 1\n",
    "new_fantasy = 1\n",
    "new_horror = 1\n",
    "new_mystery = 1\n",
    "new_romance = 5\n",
    "new_scifi = 5\n",
    "new_thriller = 1\n",
    "new_rating_count = 3\n",
    "\n",
    "user_vec = np.array([[new_user_id, new_rating_count, new_rating_ave,\n",
    "                      new_action, new_adventure, new_animation, new_childrens,\n",
    "                      new_comedy, new_crime, new_documentary,\n",
    "                      new_drama, new_fantasy, new_horror, new_mystery,\n",
    "                      new_romance, new_scifi, new_thriller]])"
   ]
  },
  {
   "cell_type": "markdown",
   "id": "b5b08e8a",
   "metadata": {},
   "source": [
    "Let's look at the top-rated movies for the new user. Recall, the user vector had genres that favored Comedy and Romance.\n",
    "Below, we'll use a set of movie/item vectors, `item_vecs` that have a vector for each movie in the training/test set. This is matched with the user vector above and the scaled vectors are used to predict ratings for all the movies for our new user above."
   ]
  },
  {
   "cell_type": "code",
   "execution_count": 17,
   "id": "f1190b08",
   "metadata": {},
   "outputs": [
    {
     "name": "stdout",
     "output_type": "stream",
     "text": [
      "59/59 [==============================] - 0s 4ms/step\n"
     ]
    },
    {
     "data": {
      "text/html": [
       "<table>\n",
       "<thead>\n",
       "<tr><th style=\"text-align: right;\">    y_p</th><th style=\"text-align: right;\">  movie id</th><th style=\"text-align: right;\">  rating ave</th><th>title                                     </th><th>genres                </th></tr>\n",
       "</thead>\n",
       "<tbody>\n",
       "<tr><td style=\"text-align: right;\">4.84793</td><td style=\"text-align: right;\">     76293</td><td style=\"text-align: right;\">     3.31818</td><td>Date Night (2010)                         </td><td>Action|Comedy|Romance </td></tr>\n",
       "<tr><td style=\"text-align: right;\">4.82386</td><td style=\"text-align: right;\">     69406</td><td style=\"text-align: right;\">     3.5    </td><td>Proposal, The (2009)                      </td><td>Comedy|Romance        </td></tr>\n",
       "<tr><td style=\"text-align: right;\">4.8197 </td><td style=\"text-align: right;\">     58047</td><td style=\"text-align: right;\">     3.42857</td><td>Definitely, Maybe (2008)                  </td><td>Comedy|Drama|Romance  </td></tr>\n",
       "<tr><td style=\"text-align: right;\">4.81538</td><td style=\"text-align: right;\">     62155</td><td style=\"text-align: right;\">     3.35   </td><td>Nick and Norah&#x27;s Infinite Playlist (2008) </td><td>Comedy|Drama|Romance  </td></tr>\n",
       "<tr><td style=\"text-align: right;\">4.80771</td><td style=\"text-align: right;\">     99007</td><td style=\"text-align: right;\">     3.5    </td><td>Warm Bodies (2013)                        </td><td>Comedy|Horror|Romance </td></tr>\n",
       "<tr><td style=\"text-align: right;\">4.80431</td><td style=\"text-align: right;\">     86882</td><td style=\"text-align: right;\">     3.56   </td><td>Midnight in Paris (2011)                  </td><td>Comedy|Fantasy|Romance</td></tr>\n",
       "<tr><td style=\"text-align: right;\">4.80238</td><td style=\"text-align: right;\">     56949</td><td style=\"text-align: right;\">     3.3    </td><td>27 Dresses (2008)                         </td><td>Comedy|Romance        </td></tr>\n",
       "<tr><td style=\"text-align: right;\">4.79867</td><td style=\"text-align: right;\">     54004</td><td style=\"text-align: right;\">     3.45455</td><td>I Now Pronounce You Chuck and Larry (2007)</td><td>Comedy|Romance        </td></tr>\n",
       "<tr><td style=\"text-align: right;\">4.77714</td><td style=\"text-align: right;\">      5377</td><td style=\"text-align: right;\">     3.71591</td><td>About a Boy (2002)                        </td><td>Comedy|Drama|Romance  </td></tr>\n",
       "<tr><td style=\"text-align: right;\">4.77429</td><td style=\"text-align: right;\">      5992</td><td style=\"text-align: right;\">     3.7    </td><td>Hours, The (2002)                         </td><td>Drama|Romance         </td></tr>\n",
       "</tbody>\n",
       "</table>"
      ],
      "text/plain": [
       "'<table>\\n<thead>\\n<tr><th style=\"text-align: right;\">    y_p</th><th style=\"text-align: right;\">  movie id</th><th style=\"text-align: right;\">  rating ave</th><th>title                                     </th><th>genres                </th></tr>\\n</thead>\\n<tbody>\\n<tr><td style=\"text-align: right;\">4.84793</td><td style=\"text-align: right;\">     76293</td><td style=\"text-align: right;\">     3.31818</td><td>Date Night (2010)                         </td><td>Action|Comedy|Romance </td></tr>\\n<tr><td style=\"text-align: right;\">4.82386</td><td style=\"text-align: right;\">     69406</td><td style=\"text-align: right;\">     3.5    </td><td>Proposal, The (2009)                      </td><td>Comedy|Romance        </td></tr>\\n<tr><td style=\"text-align: right;\">4.8197 </td><td style=\"text-align: right;\">     58047</td><td style=\"text-align: right;\">     3.42857</td><td>Definitely, Maybe (2008)                  </td><td>Comedy|Drama|Romance  </td></tr>\\n<tr><td style=\"text-align: right;\">4.81538</td><td style=\"text-align: right;\">     62155</td><td style=\"text-align: right;\">     3.35   </td><td>Nick and Norah&#x27;s Infinite Playlist (2008) </td><td>Comedy|Drama|Romance  </td></tr>\\n<tr><td style=\"text-align: right;\">4.80771</td><td style=\"text-align: right;\">     99007</td><td style=\"text-align: right;\">     3.5    </td><td>Warm Bodies (2013)                        </td><td>Comedy|Horror|Romance </td></tr>\\n<tr><td style=\"text-align: right;\">4.80431</td><td style=\"text-align: right;\">     86882</td><td style=\"text-align: right;\">     3.56   </td><td>Midnight in Paris (2011)                  </td><td>Comedy|Fantasy|Romance</td></tr>\\n<tr><td style=\"text-align: right;\">4.80238</td><td style=\"text-align: right;\">     56949</td><td style=\"text-align: right;\">     3.3    </td><td>27 Dresses (2008)                         </td><td>Comedy|Romance        </td></tr>\\n<tr><td style=\"text-align: right;\">4.79867</td><td style=\"text-align: right;\">     54004</td><td style=\"text-align: right;\">     3.45455</td><td>I Now Pronounce You Chuck and Larry (2007)</td><td>Comedy|Romance        </td></tr>\\n<tr><td style=\"text-align: right;\">4.77714</td><td style=\"text-align: right;\">      5377</td><td style=\"text-align: right;\">     3.71591</td><td>About a Boy (2002)                        </td><td>Comedy|Drama|Romance  </td></tr>\\n<tr><td style=\"text-align: right;\">4.77429</td><td style=\"text-align: right;\">      5992</td><td style=\"text-align: right;\">     3.7    </td><td>Hours, The (2002)                         </td><td>Drama|Romance         </td></tr>\\n</tbody>\\n</table>'"
      ]
     },
     "execution_count": 17,
     "metadata": {},
     "output_type": "execute_result"
    }
   ],
   "source": [
    "# generate and replicate the user vector to match the number movies in the data set.\n",
    "user_vecs = gen_user_vecs(user_vec,len(item_vecs))\n",
    "\n",
    "# scale the vectors and make predictions for all movies. Return results sorted by rating.\n",
    "sorted_index, sorted_ypu, sorted_items, sorted_user = predict_uservec(user_vecs,  item_vecs, model, u_s, i_s, \n",
    "                                                                       scaler, scalerUser, scalerItem, scaledata=scaledata)\n",
    "\n",
    "print_pred_movies(sorted_ypu, sorted_user, sorted_items, movie_dict, maxcount = 10)"
   ]
  },
  {
   "cell_type": "markdown",
   "id": "044fd544",
   "metadata": {},
   "source": [
    "### Predictions for an existing user."
   ]
  },
  {
   "cell_type": "markdown",
   "id": "704d1758",
   "metadata": {},
   "source": [
    "Let's look at the predictions for \"user 36\", one of the users in the data set. We can compare the predicted ratings with the model's ratings. Note that movies with multiple genre's show up multiple times in the training data. For example,'The Time Machine' has three genre's: Adventure, Action, Sci-Fi"
   ]
  },
  {
   "cell_type": "code",
   "execution_count": 18,
   "id": "fea48859",
   "metadata": {},
   "outputs": [
    {
     "name": "stdout",
     "output_type": "stream",
     "text": [
      "59/59 [==============================] - 0s 4ms/step\n"
     ]
    },
    {
     "data": {
      "text/html": [
       "<table>\n",
       "<thead>\n",
       "<tr><th style=\"text-align: right;\">  y_p</th><th style=\"text-align: right;\">  y</th><th style=\"text-align: right;\">  user</th><th style=\"text-align: right;\">  user genre ave</th><th style=\"text-align: right;\">  movie rating ave</th><th>title                   </th><th>genres   </th></tr>\n",
       "</thead>\n",
       "<tbody>\n",
       "<tr><td style=\"text-align: right;\">  3.2</td><td style=\"text-align: right;\">3.0</td><td style=\"text-align: right;\">    36</td><td style=\"text-align: right;\">            3.00</td><td style=\"text-align: right;\">              2.86</td><td>Time Machine, The (2002)</td><td>Adventure</td></tr>\n",
       "<tr><td style=\"text-align: right;\">  3.1</td><td style=\"text-align: right;\">3.0</td><td style=\"text-align: right;\">    36</td><td style=\"text-align: right;\">            3.00</td><td style=\"text-align: right;\">              2.86</td><td>Time Machine, The (2002)</td><td>Action   </td></tr>\n",
       "<tr><td style=\"text-align: right;\">  3.0</td><td style=\"text-align: right;\">3.0</td><td style=\"text-align: right;\">    36</td><td style=\"text-align: right;\">            3.00</td><td style=\"text-align: right;\">              2.86</td><td>Time Machine, The (2002)</td><td>Sci-Fi   </td></tr>\n",
       "<tr><td style=\"text-align: right;\">  2.0</td><td style=\"text-align: right;\">1.0</td><td style=\"text-align: right;\">    36</td><td style=\"text-align: right;\">            1.50</td><td style=\"text-align: right;\">              4.00</td><td>Beautiful Mind, A (2001)</td><td>Drama    </td></tr>\n",
       "<tr><td style=\"text-align: right;\">  1.9</td><td style=\"text-align: right;\">1.5</td><td style=\"text-align: right;\">    36</td><td style=\"text-align: right;\">            1.75</td><td style=\"text-align: right;\">              3.52</td><td>Road to Perdition (2002)</td><td>Crime    </td></tr>\n",
       "<tr><td style=\"text-align: right;\">  1.9</td><td style=\"text-align: right;\">2.0</td><td style=\"text-align: right;\">    36</td><td style=\"text-align: right;\">            1.75</td><td style=\"text-align: right;\">              3.52</td><td>Gangs of New York (2002)</td><td>Crime    </td></tr>\n",
       "<tr><td style=\"text-align: right;\">  1.8</td><td style=\"text-align: right;\">1.0</td><td style=\"text-align: right;\">    36</td><td style=\"text-align: right;\">            1.00</td><td style=\"text-align: right;\">              4.00</td><td>Beautiful Mind, A (2001)</td><td>Romance  </td></tr>\n",
       "<tr><td style=\"text-align: right;\">  1.6</td><td style=\"text-align: right;\">1.5</td><td style=\"text-align: right;\">    36</td><td style=\"text-align: right;\">            1.50</td><td style=\"text-align: right;\">              3.52</td><td>Road to Perdition (2002)</td><td>Drama    </td></tr>\n",
       "<tr><td style=\"text-align: right;\">  1.6</td><td style=\"text-align: right;\">2.0</td><td style=\"text-align: right;\">    36</td><td style=\"text-align: right;\">            1.50</td><td style=\"text-align: right;\">              3.52</td><td>Gangs of New York (2002)</td><td>Drama    </td></tr>\n",
       "</tbody>\n",
       "</table>"
      ],
      "text/plain": [
       "'<table>\\n<thead>\\n<tr><th style=\"text-align: right;\">  y_p</th><th style=\"text-align: right;\">  y</th><th style=\"text-align: right;\">  user</th><th style=\"text-align: right;\">  user genre ave</th><th style=\"text-align: right;\">  movie rating ave</th><th>title                   </th><th>genres   </th></tr>\\n</thead>\\n<tbody>\\n<tr><td style=\"text-align: right;\">  3.2</td><td style=\"text-align: right;\">3.0</td><td style=\"text-align: right;\">    36</td><td style=\"text-align: right;\">            3.00</td><td style=\"text-align: right;\">              2.86</td><td>Time Machine, The (2002)</td><td>Adventure</td></tr>\\n<tr><td style=\"text-align: right;\">  3.1</td><td style=\"text-align: right;\">3.0</td><td style=\"text-align: right;\">    36</td><td style=\"text-align: right;\">            3.00</td><td style=\"text-align: right;\">              2.86</td><td>Time Machine, The (2002)</td><td>Action   </td></tr>\\n<tr><td style=\"text-align: right;\">  3.0</td><td style=\"text-align: right;\">3.0</td><td style=\"text-align: right;\">    36</td><td style=\"text-align: right;\">            3.00</td><td style=\"text-align: right;\">              2.86</td><td>Time Machine, The (2002)</td><td>Sci-Fi   </td></tr>\\n<tr><td style=\"text-align: right;\">  2.0</td><td style=\"text-align: right;\">1.0</td><td style=\"text-align: right;\">    36</td><td style=\"text-align: right;\">            1.50</td><td style=\"text-align: right;\">              4.00</td><td>Beautiful Mind, A (2001)</td><td>Drama    </td></tr>\\n<tr><td style=\"text-align: right;\">  1.9</td><td style=\"text-align: right;\">1.5</td><td style=\"text-align: right;\">    36</td><td style=\"text-align: right;\">            1.75</td><td style=\"text-align: right;\">              3.52</td><td>Road to Perdition (2002)</td><td>Crime    </td></tr>\\n<tr><td style=\"text-align: right;\">  1.9</td><td style=\"text-align: right;\">2.0</td><td style=\"text-align: right;\">    36</td><td style=\"text-align: right;\">            1.75</td><td style=\"text-align: right;\">              3.52</td><td>Gangs of New York (2002)</td><td>Crime    </td></tr>\\n<tr><td style=\"text-align: right;\">  1.8</td><td style=\"text-align: right;\">1.0</td><td style=\"text-align: right;\">    36</td><td style=\"text-align: right;\">            1.00</td><td style=\"text-align: right;\">              4.00</td><td>Beautiful Mind, A (2001)</td><td>Romance  </td></tr>\\n<tr><td style=\"text-align: right;\">  1.6</td><td style=\"text-align: right;\">1.5</td><td style=\"text-align: right;\">    36</td><td style=\"text-align: right;\">            1.50</td><td style=\"text-align: right;\">              3.52</td><td>Road to Perdition (2002)</td><td>Drama    </td></tr>\\n<tr><td style=\"text-align: right;\">  1.6</td><td style=\"text-align: right;\">2.0</td><td style=\"text-align: right;\">    36</td><td style=\"text-align: right;\">            1.50</td><td style=\"text-align: right;\">              3.52</td><td>Gangs of New York (2002)</td><td>Drama    </td></tr>\\n</tbody>\\n</table>'"
      ]
     },
     "execution_count": 18,
     "metadata": {},
     "output_type": "execute_result"
    }
   ],
   "source": [
    "uid =  36 \n",
    "# form a set of user vectors. This is the same vector, transformed and repeated.\n",
    "user_vecs, y_vecs = get_user_vecs(uid, scalerUser.inverse_transform(user_train), item_vecs, user_to_genre)\n",
    "\n",
    "# scale the vectors and make predictions for all movies. Return results sorted by rating.\n",
    "sorted_index, sorted_ypu, sorted_items, sorted_user = predict_uservec(user_vecs, item_vecs, model, u_s, i_s, scaler, \n",
    "                                                                      scalerUser, scalerItem, scaledata=scaledata)\n",
    "sorted_y = y_vecs[sorted_index]\n",
    "\n",
    "#print sorted predictions\n",
    "print_existing_user(sorted_ypu, sorted_y.reshape(-1,1), sorted_user, sorted_items, item_features, ivs, uvs, movie_dict, maxcount = 10)"
   ]
  },
  {
   "cell_type": "markdown",
   "id": "f6e6e30b",
   "metadata": {},
   "source": [
    "#### Finding Similar Items\n",
    "The neural network above produces two feature vectors, a user feature vector $v_u$, and a movie feature vector, $v_m$. These are 32 entry vectors whose values are difficult to interpret. However, similar items will have similar vectors. This information can be used to make recommendations. For example, if a user has rated \"Toy Story 3\" highly, one could recommend similar movies by selecting movies with similar movie feature vectors.\n",
    "\n",
    "A similarity measure is the squared distance between the two vectors $ \\mathbf{v_m^{(k)}}$ and $\\mathbf{v_m^{(i)}}$ :\n",
    "$$\\left\\Vert \\mathbf{v_m^{(k)}} - \\mathbf{v_m^{(i)}}  \\right\\Vert^2 = \\sum_{l=1}^{n}(v_{m_l}^{(k)} - v_{m_l}^{(i)})^2\\tag{1}$$"
   ]
  },
  {
   "cell_type": "code",
   "execution_count": 19,
   "id": "a7141dc6",
   "metadata": {},
   "outputs": [],
   "source": [
    "def sq_dist(a,b):\n",
    "    \"\"\"\n",
    "    Returns the squared distance between two vectors\n",
    "    Args:\n",
    "      a (ndarray (n,)): vector with n features\n",
    "      b (ndarray (n,)): vector with n features\n",
    "    Returns:\n",
    "      d (float) : distance\n",
    "    \"\"\"\n",
    "    \n",
    "    d = np.sum(np.square(a - b))\n",
    "     \n",
    "    return (d)"
   ]
  },
  {
   "cell_type": "markdown",
   "id": "2b50c06a",
   "metadata": {},
   "source": [
    "A matrix of distances between movies can be computed once when the model is trained and then reused for new recommendations without retraining. The first step, once a model is trained, is to obtain the movie feature vector, $v_m$, for each of the movies. To do this, we will use the trained `item_NN` and build a small model to allow us to run the movie vectors through it to generate $v_m$."
   ]
  },
  {
   "cell_type": "code",
   "execution_count": 20,
   "id": "bca2f193",
   "metadata": {},
   "outputs": [
    {
     "name": "stdout",
     "output_type": "stream",
     "text": [
      "Model: \"model_1\"\n",
      "_________________________________________________________________\n",
      " Layer (type)                Output Shape              Param #   \n",
      "=================================================================\n",
      " input_3 (InputLayer)        [(None, 16)]              0         \n",
      "                                                                 \n",
      " sequential_1 (Sequential)   (None, 32)                41376     \n",
      "                                                                 \n",
      " tf.math.l2_normalize_2 (TFO  (None, 32)               0         \n",
      " pLambda)                                                        \n",
      "                                                                 \n",
      "=================================================================\n",
      "Total params: 41,376\n",
      "Trainable params: 41,376\n",
      "Non-trainable params: 0\n",
      "_________________________________________________________________\n"
     ]
    }
   ],
   "source": [
    "input_item_m = tf.keras.layers.Input(shape=(num_item_features))    # input layer\n",
    "vm_m = item_NN(input_item_m)                                       # use the trained item_NN\n",
    "vm_m = tf.linalg.l2_normalize(vm_m, axis=1)                        # incorporate normalization as was done in the original model\n",
    "model_m = Model(input_item_m, vm_m)                                \n",
    "model_m.summary()"
   ]
  },
  {
   "cell_type": "code",
   "execution_count": 21,
   "id": "f6f025ef",
   "metadata": {},
   "outputs": [
    {
     "name": "stdout",
     "output_type": "stream",
     "text": [
      "59/59 [==============================] - 0s 2ms/step\n",
      "size of all predicted movie feature vectors: (1883, 32)\n"
     ]
    }
   ],
   "source": [
    "scaled_item_vecs = scalerItem.transform(item_vecs)\n",
    "vms = model_m.predict(scaled_item_vecs[:,i_s:])\n",
    "print(f\"size of all predicted movie feature vectors: {vms.shape}\")"
   ]
  },
  {
   "cell_type": "code",
   "execution_count": 22,
   "id": "1f13302e",
   "metadata": {},
   "outputs": [
    {
     "data": {
      "text/html": [
       "<table>\n",
       "<thead>\n",
       "<tr><th>movie1                                </th><th>genres   </th><th>movie2                          </th><th>genres   </th></tr>\n",
       "</thead>\n",
       "<tbody>\n",
       "<tr><td>Save the Last Dance (2001)            </td><td>Drama    </td><td>John Q (2002)                   </td><td>Drama    </td></tr>\n",
       "<tr><td>Save the Last Dance (2001)            </td><td>Romance  </td><td>Wedding Planner, The (2001)     </td><td>Romance  </td></tr>\n",
       "<tr><td>Wedding Planner, The (2001)           </td><td>Comedy   </td><td>Spy Kids (2001)                 </td><td>Comedy   </td></tr>\n",
       "<tr><td>Wedding Planner, The (2001)           </td><td>Romance  </td><td>Sweetest Thing, The (2002)      </td><td>Romance  </td></tr>\n",
       "<tr><td>Hannibal (2001)                       </td><td>Horror   </td><td>Resident Evil: Apocalypse (2004)</td><td>Horror   </td></tr>\n",
       "<tr><td>Hannibal (2001)                       </td><td>Thriller </td><td>Sum of All Fears, The (2002)    </td><td>Thriller </td></tr>\n",
       "<tr><td>Saving Silverman (Evil Woman) (2001)  </td><td>Comedy   </td><td>Cats &amp; Dogs (2001)              </td><td>Comedy   </td></tr>\n",
       "<tr><td>Saving Silverman (Evil Woman) (2001)  </td><td>Romance  </td><td>Save the Last Dance (2001)      </td><td>Romance  </td></tr>\n",
       "<tr><td>Down to Earth (2001)                  </td><td>Comedy   </td><td>Joe Dirt (2001)                 </td><td>Comedy   </td></tr>\n",
       "<tr><td>Down to Earth (2001)                  </td><td>Fantasy  </td><td>Haunted Mansion, The (2003)     </td><td>Fantasy  </td></tr>\n",
       "<tr><td>Down to Earth (2001)                  </td><td>Romance  </td><td>Joe Dirt (2001)                 </td><td>Romance  </td></tr>\n",
       "<tr><td>Mexican, The (2001)                   </td><td>Action   </td><td>Knight&#x27;s Tale, A (2001)         </td><td>Action   </td></tr>\n",
       "<tr><td>Mexican, The (2001)                   </td><td>Comedy   </td><td>Knight&#x27;s Tale, A (2001)         </td><td>Comedy   </td></tr>\n",
       "<tr><td>15 Minutes (2001)                     </td><td>Thriller </td><td>Panic Room (2002)               </td><td>Thriller </td></tr>\n",
       "<tr><td>Heartbreakers (2001)                  </td><td>Comedy   </td><td>Animal, The (2001)              </td><td>Comedy   </td></tr>\n",
       "<tr><td>Heartbreakers (2001)                  </td><td>Crime    </td><td>Stepford Wives, The (2004)      </td><td>Thriller </td></tr>\n",
       "<tr><td>Heartbreakers (2001)                  </td><td>Romance  </td><td>Bewitched (2005)                </td><td>Romance  </td></tr>\n",
       "<tr><td>Spy Kids (2001)                       </td><td>Action   </td><td>Lara Croft: Tomb Raider (2001)  </td><td>Action   </td></tr>\n",
       "<tr><td>Spy Kids (2001)                       </td><td>Adventure</td><td>Lara Croft: Tomb Raider (2001)  </td><td>Adventure</td></tr>\n",
       "<tr><td>Spy Kids (2001)                       </td><td>Children </td><td>Princess Diaries, The (2001)    </td><td>Children </td></tr>\n",
       "<tr><td>Spy Kids (2001)                       </td><td>Comedy   </td><td>Wedding Planner, The (2001)     </td><td>Comedy   </td></tr>\n",
       "<tr><td>Along Came a Spider (2001)            </td><td>Action   </td><td>Swordfish (2001)                </td><td>Action   </td></tr>\n",
       "<tr><td>Along Came a Spider (2001)            </td><td>Crime    </td><td>Swordfish (2001)                </td><td>Crime    </td></tr>\n",
       "<tr><td>Along Came a Spider (2001)            </td><td>Mystery  </td><td>Ring, The (2002)                </td><td>Mystery  </td></tr>\n",
       "<tr><td>Along Came a Spider (2001)            </td><td>Thriller </td><td>Signs (2002)                    </td><td>Thriller </td></tr>\n",
       "<tr><td>Blow (2001)                           </td><td>Crime    </td><td>Training Day (2001)             </td><td>Crime    </td></tr>\n",
       "<tr><td>Blow (2001)                           </td><td>Drama    </td><td>Training Day (2001)             </td><td>Drama    </td></tr>\n",
       "<tr><td>Bridget Jones&#x27;s Diary (2001)          </td><td>Comedy   </td><td>Super Troopers (2001)           </td><td>Comedy   </td></tr>\n",
       "<tr><td>Bridget Jones&#x27;s Diary (2001)          </td><td>Drama    </td><td>Others, The (2001)              </td><td>Drama    </td></tr>\n",
       "<tr><td>Bridget Jones&#x27;s Diary (2001)          </td><td>Romance  </td><td>Punch-Drunk Love (2002)         </td><td>Romance  </td></tr>\n",
       "<tr><td>Joe Dirt (2001)                       </td><td>Adventure</td><td>Bulletproof Monk (2003)         </td><td>Adventure</td></tr>\n",
       "<tr><td>Joe Dirt (2001)                       </td><td>Comedy   </td><td>Dr. Dolittle 2 (2001)           </td><td>Comedy   </td></tr>\n",
       "<tr><td>Joe Dirt (2001)                       </td><td>Mystery  </td><td>Grudge, The (2004)              </td><td>Mystery  </td></tr>\n",
       "<tr><td>Joe Dirt (2001)                       </td><td>Romance  </td><td>Down to Earth (2001)            </td><td>Romance  </td></tr>\n",
       "<tr><td>Crocodile Dundee in Los Angeles (2001)</td><td>Comedy   </td><td>Heartbreakers (2001)            </td><td>Comedy   </td></tr>\n",
       "<tr><td>Crocodile Dundee in Los Angeles (2001)</td><td>Drama    </td><td>Scary Movie 4 (2006)            </td><td>Horror   </td></tr>\n",
       "<tr><td>Mummy Returns, The (2001)             </td><td>Action   </td><td>Swordfish (2001)                </td><td>Action   </td></tr>\n",
       "<tr><td>Mummy Returns, The (2001)             </td><td>Adventure</td><td>Rundown, The (2003)             </td><td>Adventure</td></tr>\n",
       "<tr><td>Mummy Returns, The (2001)             </td><td>Comedy   </td><td>American Pie 2 (2001)           </td><td>Comedy   </td></tr>\n",
       "<tr><td>Mummy Returns, The (2001)             </td><td>Thriller </td><td>Fast and the Furious, The (2001)</td><td>Thriller </td></tr>\n",
       "<tr><td>Knight&#x27;s Tale, A (2001)               </td><td>Action   </td><td>Mexican, The (2001)             </td><td>Action   </td></tr>\n",
       "<tr><td>Knight&#x27;s Tale, A (2001)               </td><td>Comedy   </td><td>Mexican, The (2001)             </td><td>Comedy   </td></tr>\n",
       "<tr><td>Knight&#x27;s Tale, A (2001)               </td><td>Romance  </td><td>Monster&#x27;s Ball (2001)           </td><td>Romance  </td></tr>\n",
       "<tr><td>Shrek (2001)                          </td><td>Adventure</td><td>Monsters, Inc. (2001)           </td><td>Adventure</td></tr>\n",
       "<tr><td>Shrek (2001)                          </td><td>Animation</td><td>Monsters, Inc. (2001)           </td><td>Animation</td></tr>\n",
       "<tr><td>Shrek (2001)                          </td><td>Children </td><td>Monsters, Inc. (2001)           </td><td>Children </td></tr>\n",
       "<tr><td>Shrek (2001)                          </td><td>Comedy   </td><td>Monsters, Inc. (2001)           </td><td>Comedy   </td></tr>\n",
       "<tr><td>Shrek (2001)                          </td><td>Fantasy  </td><td>Monsters, Inc. (2001)           </td><td>Fantasy  </td></tr>\n",
       "<tr><td>Shrek (2001)                          </td><td>Romance  </td><td>Monsoon Wedding (2001)          </td><td>Romance  </td></tr>\n",
       "<tr><td>Animal, The (2001)                    </td><td>Comedy   </td><td>Heartbreakers (2001)            </td><td>Comedy   </td></tr>\n",
       "</tbody>\n",
       "</table>"
      ],
      "text/plain": [
       "'<table>\\n<thead>\\n<tr><th>movie1                                </th><th>genres   </th><th>movie2                          </th><th>genres   </th></tr>\\n</thead>\\n<tbody>\\n<tr><td>Save the Last Dance (2001)            </td><td>Drama    </td><td>John Q (2002)                   </td><td>Drama    </td></tr>\\n<tr><td>Save the Last Dance (2001)            </td><td>Romance  </td><td>Wedding Planner, The (2001)     </td><td>Romance  </td></tr>\\n<tr><td>Wedding Planner, The (2001)           </td><td>Comedy   </td><td>Spy Kids (2001)                 </td><td>Comedy   </td></tr>\\n<tr><td>Wedding Planner, The (2001)           </td><td>Romance  </td><td>Sweetest Thing, The (2002)      </td><td>Romance  </td></tr>\\n<tr><td>Hannibal (2001)                       </td><td>Horror   </td><td>Resident Evil: Apocalypse (2004)</td><td>Horror   </td></tr>\\n<tr><td>Hannibal (2001)                       </td><td>Thriller </td><td>Sum of All Fears, The (2002)    </td><td>Thriller </td></tr>\\n<tr><td>Saving Silverman (Evil Woman) (2001)  </td><td>Comedy   </td><td>Cats &amp; Dogs (2001)              </td><td>Comedy   </td></tr>\\n<tr><td>Saving Silverman (Evil Woman) (2001)  </td><td>Romance  </td><td>Save the Last Dance (2001)      </td><td>Romance  </td></tr>\\n<tr><td>Down to Earth (2001)                  </td><td>Comedy   </td><td>Joe Dirt (2001)                 </td><td>Comedy   </td></tr>\\n<tr><td>Down to Earth (2001)                  </td><td>Fantasy  </td><td>Haunted Mansion, The (2003)     </td><td>Fantasy  </td></tr>\\n<tr><td>Down to Earth (2001)                  </td><td>Romance  </td><td>Joe Dirt (2001)                 </td><td>Romance  </td></tr>\\n<tr><td>Mexican, The (2001)                   </td><td>Action   </td><td>Knight&#x27;s Tale, A (2001)         </td><td>Action   </td></tr>\\n<tr><td>Mexican, The (2001)                   </td><td>Comedy   </td><td>Knight&#x27;s Tale, A (2001)         </td><td>Comedy   </td></tr>\\n<tr><td>15 Minutes (2001)                     </td><td>Thriller </td><td>Panic Room (2002)               </td><td>Thriller </td></tr>\\n<tr><td>Heartbreakers (2001)                  </td><td>Comedy   </td><td>Animal, The (2001)              </td><td>Comedy   </td></tr>\\n<tr><td>Heartbreakers (2001)                  </td><td>Crime    </td><td>Stepford Wives, The (2004)      </td><td>Thriller </td></tr>\\n<tr><td>Heartbreakers (2001)                  </td><td>Romance  </td><td>Bewitched (2005)                </td><td>Romance  </td></tr>\\n<tr><td>Spy Kids (2001)                       </td><td>Action   </td><td>Lara Croft: Tomb Raider (2001)  </td><td>Action   </td></tr>\\n<tr><td>Spy Kids (2001)                       </td><td>Adventure</td><td>Lara Croft: Tomb Raider (2001)  </td><td>Adventure</td></tr>\\n<tr><td>Spy Kids (2001)                       </td><td>Children </td><td>Princess Diaries, The (2001)    </td><td>Children </td></tr>\\n<tr><td>Spy Kids (2001)                       </td><td>Comedy   </td><td>Wedding Planner, The (2001)     </td><td>Comedy   </td></tr>\\n<tr><td>Along Came a Spider (2001)            </td><td>Action   </td><td>Swordfish (2001)                </td><td>Action   </td></tr>\\n<tr><td>Along Came a Spider (2001)            </td><td>Crime    </td><td>Swordfish (2001)                </td><td>Crime    </td></tr>\\n<tr><td>Along Came a Spider (2001)            </td><td>Mystery  </td><td>Ring, The (2002)                </td><td>Mystery  </td></tr>\\n<tr><td>Along Came a Spider (2001)            </td><td>Thriller </td><td>Signs (2002)                    </td><td>Thriller </td></tr>\\n<tr><td>Blow (2001)                           </td><td>Crime    </td><td>Training Day (2001)             </td><td>Crime    </td></tr>\\n<tr><td>Blow (2001)                           </td><td>Drama    </td><td>Training Day (2001)             </td><td>Drama    </td></tr>\\n<tr><td>Bridget Jones&#x27;s Diary (2001)          </td><td>Comedy   </td><td>Super Troopers (2001)           </td><td>Comedy   </td></tr>\\n<tr><td>Bridget Jones&#x27;s Diary (2001)          </td><td>Drama    </td><td>Others, The (2001)              </td><td>Drama    </td></tr>\\n<tr><td>Bridget Jones&#x27;s Diary (2001)          </td><td>Romance  </td><td>Punch-Drunk Love (2002)         </td><td>Romance  </td></tr>\\n<tr><td>Joe Dirt (2001)                       </td><td>Adventure</td><td>Bulletproof Monk (2003)         </td><td>Adventure</td></tr>\\n<tr><td>Joe Dirt (2001)                       </td><td>Comedy   </td><td>Dr. Dolittle 2 (2001)           </td><td>Comedy   </td></tr>\\n<tr><td>Joe Dirt (2001)                       </td><td>Mystery  </td><td>Grudge, The (2004)              </td><td>Mystery  </td></tr>\\n<tr><td>Joe Dirt (2001)                       </td><td>Romance  </td><td>Down to Earth (2001)            </td><td>Romance  </td></tr>\\n<tr><td>Crocodile Dundee in Los Angeles (2001)</td><td>Comedy   </td><td>Heartbreakers (2001)            </td><td>Comedy   </td></tr>\\n<tr><td>Crocodile Dundee in Los Angeles (2001)</td><td>Drama    </td><td>Scary Movie 4 (2006)            </td><td>Horror   </td></tr>\\n<tr><td>Mummy Returns, The (2001)             </td><td>Action   </td><td>Swordfish (2001)                </td><td>Action   </td></tr>\\n<tr><td>Mummy Returns, The (2001)             </td><td>Adventure</td><td>Rundown, The (2003)             </td><td>Adventure</td></tr>\\n<tr><td>Mummy Returns, The (2001)             </td><td>Comedy   </td><td>American Pie 2 (2001)           </td><td>Comedy   </td></tr>\\n<tr><td>Mummy Returns, The (2001)             </td><td>Thriller </td><td>Fast and the Furious, The (2001)</td><td>Thriller </td></tr>\\n<tr><td>Knight&#x27;s Tale, A (2001)               </td><td>Action   </td><td>Mexican, The (2001)             </td><td>Action   </td></tr>\\n<tr><td>Knight&#x27;s Tale, A (2001)               </td><td>Comedy   </td><td>Mexican, The (2001)             </td><td>Comedy   </td></tr>\\n<tr><td>Knight&#x27;s Tale, A (2001)               </td><td>Romance  </td><td>Monster&#x27;s Ball (2001)           </td><td>Romance  </td></tr>\\n<tr><td>Shrek (2001)                          </td><td>Adventure</td><td>Monsters, Inc. (2001)           </td><td>Adventure</td></tr>\\n<tr><td>Shrek (2001)                          </td><td>Animation</td><td>Monsters, Inc. (2001)           </td><td>Animation</td></tr>\\n<tr><td>Shrek (2001)                          </td><td>Children </td><td>Monsters, Inc. (2001)           </td><td>Children </td></tr>\\n<tr><td>Shrek (2001)                          </td><td>Comedy   </td><td>Monsters, Inc. (2001)           </td><td>Comedy   </td></tr>\\n<tr><td>Shrek (2001)                          </td><td>Fantasy  </td><td>Monsters, Inc. (2001)           </td><td>Fantasy  </td></tr>\\n<tr><td>Shrek (2001)                          </td><td>Romance  </td><td>Monsoon Wedding (2001)          </td><td>Romance  </td></tr>\\n<tr><td>Animal, The (2001)                    </td><td>Comedy   </td><td>Heartbreakers (2001)            </td><td>Comedy   </td></tr>\\n</tbody>\\n</table>'"
      ]
     },
     "execution_count": 22,
     "metadata": {},
     "output_type": "execute_result"
    }
   ],
   "source": [
    "count = 50\n",
    "dim = len(vms)\n",
    "dist = np.zeros((dim,dim))\n",
    "\n",
    "for i in range(dim):\n",
    "    for j in range(dim):\n",
    "        dist[i,j] = sq_dist(vms[i, :], vms[j, :])\n",
    "        \n",
    "m_dist = ma.masked_array(dist, mask=np.identity(dist.shape[0]))  # mask the diagonal\n",
    "\n",
    "disp = [[\"movie1\", \"genres\", \"movie2\", \"genres\"]]\n",
    "for i in range(count):\n",
    "    min_idx = np.argmin(m_dist[i])\n",
    "    movie1_id = int(item_vecs[i,0])\n",
    "    movie2_id = int(item_vecs[min_idx,0])\n",
    "    genre1,_  = get_item_genre(item_vecs[i,:], ivs, item_features)\n",
    "    genre2,_  = get_item_genre(item_vecs[min_idx,:], ivs, item_features)\n",
    "\n",
    "    disp.append( [movie_dict[movie1_id]['title'], genre1,\n",
    "                  movie_dict[movie2_id]['title'], genre2]\n",
    "               )\n",
    "table = tabulate.tabulate(disp, tablefmt='html', headers=\"firstrow\", floatfmt=[\".1f\", \".1f\", \".0f\", \".2f\", \".2f\"])\n",
    "table"
   ]
  }
 ],
 "metadata": {
  "kernelspec": {
   "display_name": "Python 3 (ipykernel)",
   "language": "python",
   "name": "python3"
  },
  "language_info": {
   "codemirror_mode": {
    "name": "ipython",
    "version": 3
   },
   "file_extension": ".py",
   "mimetype": "text/x-python",
   "name": "python",
   "nbconvert_exporter": "python",
   "pygments_lexer": "ipython3",
   "version": "3.9.13"
  }
 },
 "nbformat": 4,
 "nbformat_minor": 5
}
